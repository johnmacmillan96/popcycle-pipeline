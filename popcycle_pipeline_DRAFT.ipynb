{
 "cells": [
  {
   "cell_type": "markdown",
   "metadata": {},
   "source": [
    "## Starting Up"
   ]
  },
  {
   "cell_type": "markdown",
   "metadata": {},
   "source": [
    "### Not sure what this does?"
   ]
  },
  {
   "cell_type": "code",
   "execution_count": 1,
   "metadata": {
    "collapsed": false
   },
   "outputs": [
    {
     "name": "stderr",
     "output_type": "stream",
     "text": [
      "Loading required package: RSQLite\n",
      "Loading required package: DBI\n",
      "Loading required package: splancs\n",
      "Loading required package: sp\n",
      "\n",
      "Spatial Point Pattern Analysis Code in S-Plus\n",
      " \n",
      " Version 2 - Spatial and Space-Time analysis\n",
      "\n",
      "Loading required package: plyr\n",
      "Loading required package: uuid\n",
      "Loading required package: tools\n"
     ]
    },
    {
     "data": {
      "text/html": [
       "<strong>pdf:</strong> 2"
      ],
      "text/latex": [
       "\\textbf{pdf:} 2"
      ],
      "text/markdown": [
       "**pdf:** 2"
      ],
      "text/plain": [
       "pdf \n",
       "  2 "
      ]
     },
     "metadata": {},
     "output_type": "display_data"
    }
   ],
   "source": [
    "library(popcycle)\n",
    "library(plotrix)\n",
    "\n",
    "#convert -delay 0.1 -loop 0 -monitor $(ls *.class.gif | sort -n | perl -ne 'chomp($_); print $_ . \" \"') animation.gif\n",
    "\n",
    "list <- list.files(\"~/Desktop/VCcl/\", pattern='.evt', recursive=T, full.names=T)\n",
    "\n",
    "png(\"~/Desktop/VCbeadsD2.png\",width=20, height=20, unit='in', res=200)\n",
    "par(mfrow=c(5,5), mar=c(2,1,1,1), oma=c(1,1,0,0))\n",
    "for(file in list){\n",
    "  #file <- list[2]\n",
    "  print(file)\n",
    "  evt <- readSeaflow(file, transform=T)\n",
    "  plot.cytogram(evt, \"fsc_small\", \"D2\",  main=paste(basename(file)))\n",
    "}\n",
    "dev.off()"
   ]
  },
  {
   "cell_type": "markdown",
   "metadata": {},
   "source": [
    "### Variables\n",
    "Run this before continuing. This saves all needed directories, databases, lists, and tables that you will need in the following steps as objects."
   ]
  },
  {
   "cell_type": "code",
   "execution_count": null,
   "metadata": {
    "collapsed": true
   },
   "outputs": [],
   "source": [
    "cruise <- \"cruise name\"\n",
    "path <- \"cruise directory\"\n",
    "\n",
    "# directories\n",
    "opp.dir <- paste0(path,cruise, \"/\",cruise,\"_opp\")\n",
    "vct.dir <- paste0(path,cruise, \"/\", cruise, \"_vct\")\n",
    "\n",
    "# database\n",
    "db <- paste0(path,cruise, \"/\",cruise,\".db\")\n",
    "\n",
    "# lists\n",
    "opp.list <- get.opp.files(db)\n",
    "\n",
    "# tables\n",
    "stat <- get.stat.table(db, flag=F)"
   ]
  },
  {
   "cell_type": "markdown",
   "metadata": {},
   "source": [
    "## 1. OPP Filtration"
   ]
  },
  {
   "cell_type": "code",
   "execution_count": 2,
   "metadata": {
    "collapsed": true
   },
   "outputs": [],
   "source": [
    "#make.popcycle.db(db)  # Create a popcycle SQLite3 database file\n",
    "\n",
    "# opp.table <- get.opp.table(db)\n",
    "# opp.table$date <- as.POSIXct(opp.table$date, format = \"%FT%T\", tz = \"GMT\")\n",
    "# opp.table2 <- subset(opp.table, filter_id==\"b6b02676-e6db-460e-a788-7aa26ebad1d8\")\n",
    "# plot(opp.table2$date, 100*opp.table2$evt_count/opp.table2$all_count)\n",
    "# plot(opp.table2$date, 100*opp.table2$opp_evt_ratio)"
   ]
  },
  {
   "cell_type": "markdown",
   "metadata": {},
   "source": [
    "## 2. Upload SFL"
   ]
  },
  {
   "cell_type": "code",
   "execution_count": null,
   "metadata": {
    "collapsed": true
   },
   "outputs": [],
   "source": [
    "for(i in c(9,10,14,15,17)){\n",
    "  #i <- 17\n",
    "cruise <- paste0(\"SCOPE_\",i)\n",
    "print(cruise)\n",
    "path <- \"/Volumes/data/data/seaflow/refilter/\"\n",
    "path.sfl <- paste0(\"~/Desktop/scope/\",cruise,\"/cruise.sfl\")\n",
    "db <- paste0(path,cruise, \"/\",cruise,\".db\")\n",
    "\n",
    "df <- read.delim(path.sfl)\n",
    "    gga <- FALSE\n",
    "    if(mean(df$LAT, na.rm=T) > 1000) gga <- TRUE\n",
    "save.sfl(db=db, cruise=cruise, sfl.file=path.sfl, gga = gga)\n",
    "sfl <- get.sfl.table(db)\n",
    "print(sfl[1,])\n",
    "}"
   ]
  },
  {
   "cell_type": "markdown",
   "metadata": {},
   "source": [
    "## 3. SET GATING PARAMS "
   ]
  },
  {
   "cell_type": "markdown",
   "metadata": {},
   "source": [
    "### 3.1 Add Classification"
   ]
  },
  {
   "cell_type": "code",
   "execution_count": null,
   "metadata": {
    "collapsed": true
   },
   "outputs": [],
   "source": [
    "freq <- round(seq(75, length(opp.list), length.out=24))\n",
    "\n",
    "OPP <- NULL\n",
    "par(mfrow=c(4,6))\n",
    "\n",
    "    for(i in freq){\n",
    "        opp.name <- opp.list[i]\n",
    "        try(opp <- get.opp.by.file(opp.dir, opp.name))#, vct.dir=vct.dir, pop= \"prochloro\"))\n",
    "        try(plot.cytogram(opp, \"fsc_small\",\"chl_small\", main=paste(basename(opp.name))))\n",
    "        OPP <- rbind(OPP, opp)\n",
    "        }\n",
    "\n",
    "    gates.log <- add.manual.classification(OPP, \"beads\", \"fsc_small\", \"pe\")\n",
    "    gates.log <- add.manual.classification(OPP, \"synecho\", \"fsc_small\", \"pe\", gates.log)\n",
    "    #gates.log <- add.manual.classification(OPP, \"croco\", \"fsc_small\", \"pe\", gates.log)\n",
    "    #gates.log <- add.auto.classification(\"synecho\", \"fsc_small\", \"pe\", position=c(FALSE,TRUE), gates=c(2.0,NA), scale=0.975, min.pe=7, gates.log=gates.log)\n",
    "    #gates.log <- add.auto.classification(\"prochloro\", \"fsc_small\", \"chl_small\",  position=c(FALSE,TRUE), gates=c(2.0,0.5), scale=0.975, gates.log=gates.log)\n",
    "    gates.log <- add.manual.classification(OPP, \"prochloro\", \"fsc_small\", \"chl_small\", gates.log)\n",
    "    gates.log <- add.manual.classification(OPP, \"picoeuk\", \"fsc_small\", \"chl_small\", gates.log)\n"
   ]
  },
  {
   "cell_type": "markdown",
   "metadata": {},
   "source": [
    "### 3.2 Check classification on a subset"
   ]
  },
  {
   "cell_type": "code",
   "execution_count": null,
   "metadata": {
    "collapsed": true
   },
   "outputs": [],
   "source": [
    "par(mfrow=c(4,6))\n",
    "for(i in freq){\n",
    "  opp.name <- opp.list[i]\n",
    "  opp <- try(get.opp.by.file(opp.dir, opp.name))\n",
    "  opp <- try(classify.opp(opp, gates.log))\n",
    "  try(plot.vct.cytogram(opp, para.x=\"fsc_small\", para.y=\"chl_small\", main=paste(basename(opp.name))))\n",
    "  }"
   ]
  },
  {
   "cell_type": "markdown",
   "metadata": {},
   "source": [
    "### 3.3 CLASSIFY"
   ]
  },
  {
   "cell_type": "code",
   "execution_count": null,
   "metadata": {
    "collapsed": true
   },
   "outputs": [],
   "source": [
    "gating.id <- save.gating.params(db, gates.log)\n",
    "classify.opp.files(db, cruise, opp.dir, opp.list[c(1:length(opp.list))], \n",
    "                   vct.dir, gating.id=gating.id); gating.id <- NULL"
   ]
  },
  {
   "cell_type": "markdown",
   "metadata": {},
   "source": [
    "## 4. Check gating"
   ]
  },
  {
   "cell_type": "markdown",
   "metadata": {},
   "source": [
    "### 4.1 Plot"
   ]
  },
  {
   "cell_type": "code",
   "execution_count": null,
   "metadata": {
    "collapsed": true
   },
   "outputs": [],
   "source": [
    "freq <- round(seq(25, length(opp.list), length.out=24))\n",
    "par(mfrow=c(4,6))\n",
    "  for(i in freq){\n",
    "      opp.name <- opp.list[i]\n",
    "      try(plot.vct.cytogram.by.file(opp.dir,  vct.dir, opp.name, para.y=\"chl_small\", main=paste(basename(opp.name))))\n",
    "      #try(plot.opp.cytogram.by.file(opp.dir,  opp.name, main=paste(opp.name), para.y=\"chl_small\"))\n",
    "      }\n",
    "par(mfrow=c(1,1))\n",
    "plot.time(stat, popname='prochloro', param='abundance')"
   ]
  },
  {
   "cell_type": "markdown",
   "metadata": {},
   "source": [
    "### 4.2 CHECK TABLES IN POPCYCLE.DB\n"
   ]
  },
  {
   "cell_type": "code",
   "execution_count": 2,
   "metadata": {
    "collapsed": false
   },
   "outputs": [
    {
     "name": "stdout",
     "output_type": "stream",
     "text": [
      "[1] \"SCOPE_9\"\n"
     ]
    },
    {
     "ename": "ERROR",
     "evalue": "Error: could not find function \"sql.dbGetQuery\"\n",
     "output_type": "error",
     "traceback": [
      "Error: could not find function \"sql.dbGetQuery\"\nTraceback:\n"
     ]
    }
   ],
   "source": [
    "# sqlite3 path/to/mydb.db\n",
    "# drop table vct;\n",
    "# sqlite3 path/to/mydb.db <path/to/popcycle.sql\n",
    "for(i in c(9,10,14,15,17)){\n",
    "\n",
    "  #i <- 17\n",
    "  cruise <- paste0(\"SCOPE_\",i)\n",
    "  print(cruise)\n",
    "  path <- \"/Volumes/data/data/seaflow/refilter/\"\n",
    "  db <- paste0(path,cruise, \"/\",cruise,\".db\")\n",
    "\n",
    "  sql <- paste0(\"SELECT * FROM vct\")\n",
    "  #sql <- paste0(\"drop table sfl\")\n",
    "  #sql <- paste0(\"drop table vct\")\n",
    "  #sql <- paste0(\"drop view stat\")\n",
    "\n",
    "t <- sql.dbGetQuery(db, sql)\n",
    "print(t[1,2])\n",
    "system(paste(\"sqlite3\", db, \"<~/Documents/DATA/Codes/popcycle/inst/sql/popcycle.sql\"))\n",
    "\n",
    "}"
   ]
  },
  {
   "cell_type": "markdown",
   "metadata": {},
   "source": [
    "## 5. Outliers"
   ]
  },
  {
   "cell_type": "markdown",
   "metadata": {},
   "source": [
    "### 5.1 Set Up"
   ]
  },
  {
   "cell_type": "code",
   "execution_count": null,
   "metadata": {
    "collapsed": true
   },
   "outputs": [],
   "source": [
    "plot.time(stat, popname='prochloro', param='fsc_small_mean')\n",
    "#  write.csv(stat, \"~/Desktop/stat.csv\", quote=F, row.names=F)\n",
    "stat$time <- as.POSIXct(stat$time, format = \"%FT%T\", tz = \"GMT\")\n",
    "stat$flag <- 0\n",
    "sfl <- get.sfl.table(db)\n",
    "  sfl$date <- as.POSIXct(sfl$date, format = \"%FT%T\", tz = \"GMT\")\n",
    "\n",
    "\n",
    "par(mfrow=c(1,1), pty=\"m\")"
   ]
  },
  {
   "cell_type": "markdown",
   "metadata": {},
   "source": [
    "### 5.2 Remove 'flow rate' outliers"
   ]
  },
  {
   "cell_type": "code",
   "execution_count": null,
   "metadata": {
    "collapsed": true
   },
   "outputs": [],
   "source": [
    "para <- \"flow_rate\"\n",
    "plot(sfl[,\"date\"], sfl[,para],type=\"p\", ylab=\"Flow Rate\", xlab=\"time\", main='FLOW RATE outliers ')\n",
    "fact.sd <- 0.5\n",
    "model <- smooth.spline(sfl[,\"date\"], sfl[,para], spar=1.5)\n",
    "lines(sfl[,\"date\"], fitted(model),lty=2, col=3)\n",
    "res <- residuals(model)\n",
    "pre.out <- which(res < -fact.sd*sd(res) | res > fact.sd*sd(res))\n",
    "id <- sfl[pre.out,\"file\"]; \n",
    "out <- which(!is.na(match(stat[,\"file\"], id)))\n",
    "points(sfl[pre.out,\"date\"], sfl[pre.out,para], col=2)\n",
    "\n",
    "stat[out,'flag'] <- 1"
   ]
  },
  {
   "cell_type": "markdown",
   "metadata": {},
   "source": [
    "### 5.3 Remove 'event rate' outliers"
   ]
  },
  {
   "cell_type": "code",
   "execution_count": null,
   "metadata": {
    "collapsed": true
   },
   "outputs": [],
   "source": [
    "coinc <- 18000\n",
    "para <- \"event_rate\"\n",
    "plot(sfl[,\"date\"], sfl[,para],type=\"p\", ylab=\"Event Rate\", xlab=\"time\", main='EVENT_RATE outliers ')\n",
    "abline(h=coinc, col=3, lty=2)\n",
    "pre.out <- which(sfl[,para] > coinc)\n",
    "points(sfl[pre.out,\"date\"], sfl[pre.out,para], col=2)\n",
    "id <- sfl[pre.out,\"file\"]; \n",
    "out <- which(!is.na(match(stat[,\"file\"], id)))\n",
    "\n",
    "stat[out,'flag'] <- 1"
   ]
  },
  {
   "cell_type": "markdown",
   "metadata": {},
   "source": [
    "### 5.4 Remove 'OPP filtration' outliers"
   ]
  },
  {
   "cell_type": "code",
   "execution_count": null,
   "metadata": {
    "collapsed": true
   },
   "outputs": [],
   "source": [
    "df <- subset(stat,flag==0)\n",
    "para <- \"opp_evt_ratio\"\n",
    "plot(df[,\"time\"], df[,para],type=\"p\", ylab=\"OPP/EVT ratio\", xlab=\"time\", main='OPP FILTRATION outliers ')\n",
    "fact.sd <- 2.5\n",
    "model <- smooth.spline(df[,\"time\"], df[,para], spar=0.125)\n",
    "lines(df[,\"time\"], fitted(model),lty=2, col=3)\n",
    "res <- residuals(model)\n",
    "out <- which(res < -fact.sd*sd(res) | res > fact.sd*sd(res))\n",
    "#out <- which(df[,para] < 0.005)\n",
    "points(df[out,\"time\"], df[out,para], col=2)\n",
    "\n",
    "stat[rownames(df[out,]), 'flag'] <- 2"
   ]
  },
  {
   "cell_type": "markdown",
   "metadata": {},
   "source": [
    "### 5.5 Remove 'bead' outleirs"
   ]
  },
  {
   "cell_type": "code",
   "execution_count": null,
   "metadata": {
    "collapsed": true
   },
   "outputs": [],
   "source": [
    "print('remove BEADS outliers ')\n",
    "\n",
    "beads <- subset(stat, flag ==0 & pop=='beads')\n",
    "para <- beads[,\"fsc_small_mean\"]\n",
    "plot(as.POSIXct(beads[,\"time\"]), para,type=\"p\", ylab=\"BEADS fsc_small\", xlab=\"time\", log='y')\n",
    "fact.sd <- 2\n",
    "model <- smooth.spline(beads[,\"time\"], para, spar=0.75)\n",
    "lines(beads[,\"time\"], fitted(model),lty=2,col='green')\n",
    "res <- residuals(model)\n",
    "pre.out <- which(res < -fact.sd*sd(res) | res > fact.sd*sd(res))\n",
    "points(beads[pre.out,\"time\"], beads[pre.out,\"fsc_small_mean\"],col=2)\n",
    "id <- beads[pre.out,\"file\"]; out <- which(!is.na(match(stat[,\"file\"], id)))\n",
    "\n",
    "stat[out, 'flag'] <- 2"
   ]
  },
  {
   "cell_type": "markdown",
   "metadata": {},
   "source": [
    "### 5.6 Remove 'gating' outliers"
   ]
  },
  {
   "cell_type": "code",
   "execution_count": null,
   "metadata": {
    "collapsed": true
   },
   "outputs": [],
   "source": [
    "lim.t <- c(min(stat$time,na.rm=T), max(stat$time,na.rm=T))\n",
    "phyto <- c('prochloro', 'synecho')\n",
    "parameters <- c(\"abundance\", \"fsc_small_mean\")\n",
    "\n",
    "par(mfrow=c(length(phyto), length(parameters)))\n",
    "\n",
    "id <- NULL\n",
    "for(para in parameters){\n",
    "    print(para)\n",
    "    for(i in phyto){\n",
    "            p <- subset(stat, flag==0 & pop == i)\n",
    "            plot(p$time, p[,para], xlim=lim.t, ylab=paste(para), xlab=\"time\", main=paste(i))\n",
    "\n",
    "            fact.sd <- 3.5\n",
    "            model <- smooth.spline(p[,\"time\"], p[,para], spar=0.19)\n",
    "            lines(p[,\"time\"], fitted(model),lty=2,col='green')\n",
    "            res <- residuals(model)\n",
    "            pre.out <- which(res < -fact.sd*sd(res) | res > fact.sd*sd(res))\n",
    "      #pre.out <- which(p[,para] < 8)\n",
    "      points(p[pre.out,\"time\"], p[pre.out,para],col='red')\n",
    "            out <-  as.vector(unlist(data.frame(filename=unique(p[pre.out,\"file\"]))))\n",
    "            id <- c(id, out)\n",
    "      id <- unique(id)\n",
    "    }\n",
    "}\n",
    "\n",
    "\n",
    "out <- which(!is.na(match(stat[,\"file\"], id)))\n",
    "stat[out, 'flag'] <- 3"
   ]
  },
  {
   "cell_type": "markdown",
   "metadata": {},
   "source": [
    "### 5.7 Plot CLEANED stat file"
   ]
  },
  {
   "cell_type": "code",
   "execution_count": null,
   "metadata": {
    "collapsed": true
   },
   "outputs": [],
   "source": [
    "clean <- subset(stat, flag==0)\n",
    "lim.t <- c(min(as.POSIXct(stat$time),na.rm=T), max(as.POSIXct(stat$time),na.rm=T))\n",
    "phyto <- unique(stat$pop)\n",
    "\n",
    "cex <- 1\n",
    "par(mfrow=c(ceiling(length(phyto)),2), cex=cex, mar=c(2,4,2,3), oma=c(2,1,1,1))\n",
    "n <- 1\n",
    "for(i in phyto){\n",
    "    p <- subset(clean, pop == i)\n",
    "    print(i)\n",
    "    if(nrow(p) > 0){\n",
    "        plot(p$time, p$abundance, xlim=lim.t,xlab=NA,ylab=NA, main=paste(i),las=1)\n",
    "        mtext(substitute(paste(\"Abundances (10\"^{6},\"cells L\"^{-1},\")\")), 2, line=3, cex=cex)\n",
    "    plot(p$time, p$fsc_small_mean, xlim=lim.t,xlab=NA,ylab=NA, main=paste(i),las=1)\n",
    "    mtext(\"Light scattering\", 2, line=3, cex=cex)\n",
    "    if(nrow(p) < 10) mtext(paste(\"only \", nrow(p), \"data points\"), side=1, line=-4)\n",
    "        if(n == length(phyto)) mtext(\"Time\", side=1, line=3,cex=cex)\n",
    "        n <- n + 1\n",
    "    }\n",
    "}"
   ]
  },
  {
   "cell_type": "markdown",
   "metadata": {},
   "source": [
    "### 5.8 SAVE STAT TABLE AND SAVE OUTLIERS TO DB\n"
   ]
  },
  {
   "cell_type": "code",
   "execution_count": null,
   "metadata": {
    "collapsed": true
   },
   "outputs": [],
   "source": [
    "# write.csv(stat, paste0(path,cruise, \"/stat.csv\"), quote=FALSE, row.names=FALSE)\n",
    "\n",
    "df <- stat[match(unique(stat$file),stat$file),]\n",
    "outlier <- data.frame(file=df$file, flag=df$flag)\n",
    "  reset.outlier.table(db)\n",
    "save.outliers(db, cruise, table.name=outlier)\n",
    "\n",
    "stat <- subset(stat, flag ==0 & pop != 'beads')\n",
    "write.csv(stat[,c(3:5,9,11:14)], \"~/Desktop/stat.csv\", quote=FALSE, row.names=FALSE)"
   ]
  }
 ],
 "metadata": {
  "anaconda-cloud": {},
  "kernelspec": {
   "display_name": "R",
   "language": "R",
   "name": "ir"
  },
  "language_info": {
   "codemirror_mode": "r",
   "file_extension": ".r",
   "mimetype": "text/x-r-source",
   "name": "R",
   "pygments_lexer": "r",
   "version": "3.3.2"
  }
 },
 "nbformat": 4,
 "nbformat_minor": 1
}
